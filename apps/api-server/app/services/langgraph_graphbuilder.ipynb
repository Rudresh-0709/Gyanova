{
 "cells": [
  {
   "cell_type": "code",
   "execution_count": null,
   "id": "d20b6ceb",
   "metadata": {},
   "outputs": [],
   "source": [
    "import sys\n",
    "import os\n",
    "\n",
    "# Add \"api-server/\" (which contains \"app\") to sys.path\n",
    "sys.path.insert(0, os.path.abspath(os.path.join(os.getcwd(), \"../..\")))\n"
   ]
  },
  {
   "cell_type": "code",
   "execution_count": null,
   "id": "f1bde252",
   "metadata": {},
   "outputs": [],
   "source": [
    "from app.services.node.topic_node import extract_topic\n",
    "from app.services.node.sub_topic_node import extract_sub_topic\n",
    "from app.services.node.suggest_topic_node import suggest_sub_topic\n",
    "from app.services.state import TutorState\n",
    "\n",
    "from langgraph.graph import StateGraph, END"
   ]
  },
  {
   "cell_type": "code",
   "execution_count": null,
   "id": "fd86e937",
   "metadata": {},
   "outputs": [],
   "source": [
    "graph=StateGraph(TutorState)\n",
    "\n",
    "graph.add_node(\"Topic_Detection\",extract_topic)\n",
    "graph.add_node(\"SubTopic_Detection\",extract_sub_topic)\n",
    "graph.add_node(\"SubTopic_Suggestor\",suggest_sub_topic)\n",
    "graph.set_entry_point(\"Topic_Detection\")"
   ]
  },
  {
   "cell_type": "code",
   "execution_count": null,
   "id": "ef7b3613",
   "metadata": {},
   "outputs": [],
   "source": [
    "graph.add_conditional_edges(\n",
    "    \"Topic_Detection\",\n",
    "    lambda state: (\n",
    "        \"SubTopic_Detection\" if state.get(\"granularity\", \"\").lower() == \"focused\"\n",
    "        else \"SubTopic_Suggestor\"\n",
    "    )\n",
    ")\n",
    "graph.add_edge(\"SubTopic_Detection\",\"__end__\")\n",
    "graph.add_edge(\"SubTopic_Suggestor\",END)\n",
    "patient_graph=graph.compile()"
   ]
  },
  {
   "cell_type": "code",
   "execution_count": null,
   "id": "f2054e0f",
   "metadata": {},
   "outputs": [],
   "source": [
    "from IPython.display import Image, display\n",
    "display(Image(patient_graph.get_graph().draw_mermaid_png()))"
   ]
  }
 ],
 "metadata": {
  "kernelspec": {
   "display_name": ".venv (3.13.1)",
   "language": "python",
   "name": "python3"
  },
  "language_info": {
   "codemirror_mode": {
    "name": "ipython",
    "version": 3
   },
   "file_extension": ".py",
   "mimetype": "text/x-python",
   "name": "python",
   "nbconvert_exporter": "python",
   "pygments_lexer": "ipython3",
   "version": "3.13.1"
  }
 },
 "nbformat": 4,
 "nbformat_minor": 5
}
